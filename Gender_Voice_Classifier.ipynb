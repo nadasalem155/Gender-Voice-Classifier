{
  "metadata": {
    "kernelspec": {
      "language": "python",
      "display_name": "Python 3",
      "name": "python3"
    },
    "language_info": {
      "name": "python",
      "version": "3.11.13",
      "mimetype": "text/x-python",
      "codemirror_mode": {
        "name": "ipython",
        "version": 3
      },
      "pygments_lexer": "ipython3",
      "nbconvert_exporter": "python",
      "file_extension": ".py"
    },
    "kaggle": {
      "accelerator": "none",
      "dataSources": [
        {
          "sourceId": 10506096,
          "sourceType": "datasetVersion",
          "datasetId": 6504007
        }
      ],
      "dockerImageVersionId": 31089,
      "isInternetEnabled": false,
      "language": "python",
      "sourceType": "notebook",
      "isGpuEnabled": false
    },
    "colab": {
      "provenance": []
    }
  },
  "nbformat_minor": 0,
  "nbformat": 4,
  "cells": [
    {
      "cell_type": "code",
      "source": [
        "!pip install kaggle"
      ],
      "metadata": {
        "id": "GNYoRuHe37nl",
        "outputId": "ee057a5b-e45e-4020-cc26-22f9362d598b",
        "colab": {
          "base_uri": "https://localhost:8080/"
        }
      },
      "execution_count": null,
      "outputs": [
        {
          "output_type": "stream",
          "name": "stdout",
          "text": [
            "Requirement already satisfied: kaggle in /usr/local/lib/python3.12/dist-packages (1.7.4.5)\n",
            "Requirement already satisfied: bleach in /usr/local/lib/python3.12/dist-packages (from kaggle) (6.2.0)\n",
            "Requirement already satisfied: certifi>=14.05.14 in /usr/local/lib/python3.12/dist-packages (from kaggle) (2025.8.3)\n",
            "Requirement already satisfied: charset-normalizer in /usr/local/lib/python3.12/dist-packages (from kaggle) (3.4.3)\n",
            "Requirement already satisfied: idna in /usr/local/lib/python3.12/dist-packages (from kaggle) (3.10)\n",
            "Requirement already satisfied: protobuf in /usr/local/lib/python3.12/dist-packages (from kaggle) (5.29.5)\n",
            "Requirement already satisfied: python-dateutil>=2.5.3 in /usr/local/lib/python3.12/dist-packages (from kaggle) (2.9.0.post0)\n",
            "Requirement already satisfied: python-slugify in /usr/local/lib/python3.12/dist-packages (from kaggle) (8.0.4)\n",
            "Requirement already satisfied: requests in /usr/local/lib/python3.12/dist-packages (from kaggle) (2.32.4)\n",
            "Requirement already satisfied: setuptools>=21.0.0 in /usr/local/lib/python3.12/dist-packages (from kaggle) (75.2.0)\n",
            "Requirement already satisfied: six>=1.10 in /usr/local/lib/python3.12/dist-packages (from kaggle) (1.17.0)\n",
            "Requirement already satisfied: text-unidecode in /usr/local/lib/python3.12/dist-packages (from kaggle) (1.3)\n",
            "Requirement already satisfied: tqdm in /usr/local/lib/python3.12/dist-packages (from kaggle) (4.67.1)\n",
            "Requirement already satisfied: urllib3>=1.15.1 in /usr/local/lib/python3.12/dist-packages (from kaggle) (2.5.0)\n",
            "Requirement already satisfied: webencodings in /usr/local/lib/python3.12/dist-packages (from kaggle) (0.5.1)\n"
          ]
        }
      ]
    },
    {
      "cell_type": "code",
      "source": [
        "from google.colab import files\n",
        "files.upload()"
      ],
      "metadata": {
        "id": "crB6oYZr4CY9",
        "outputId": "e1f15187-0fe4-41d2-903a-2e126b240d50",
        "colab": {
          "base_uri": "https://localhost:8080/",
          "height": 91
        }
      },
      "execution_count": null,
      "outputs": [
        {
          "output_type": "display_data",
          "data": {
            "text/plain": [
              "<IPython.core.display.HTML object>"
            ],
            "text/html": [
              "\n",
              "     <input type=\"file\" id=\"files-3ee15da4-6f34-42ad-847a-9a06db5e188c\" name=\"files[]\" multiple disabled\n",
              "        style=\"border:none\" />\n",
              "     <output id=\"result-3ee15da4-6f34-42ad-847a-9a06db5e188c\">\n",
              "      Upload widget is only available when the cell has been executed in the\n",
              "      current browser session. Please rerun this cell to enable.\n",
              "      </output>\n",
              "      <script>// Copyright 2017 Google LLC\n",
              "//\n",
              "// Licensed under the Apache License, Version 2.0 (the \"License\");\n",
              "// you may not use this file except in compliance with the License.\n",
              "// You may obtain a copy of the License at\n",
              "//\n",
              "//      http://www.apache.org/licenses/LICENSE-2.0\n",
              "//\n",
              "// Unless required by applicable law or agreed to in writing, software\n",
              "// distributed under the License is distributed on an \"AS IS\" BASIS,\n",
              "// WITHOUT WARRANTIES OR CONDITIONS OF ANY KIND, either express or implied.\n",
              "// See the License for the specific language governing permissions and\n",
              "// limitations under the License.\n",
              "\n",
              "/**\n",
              " * @fileoverview Helpers for google.colab Python module.\n",
              " */\n",
              "(function(scope) {\n",
              "function span(text, styleAttributes = {}) {\n",
              "  const element = document.createElement('span');\n",
              "  element.textContent = text;\n",
              "  for (const key of Object.keys(styleAttributes)) {\n",
              "    element.style[key] = styleAttributes[key];\n",
              "  }\n",
              "  return element;\n",
              "}\n",
              "\n",
              "// Max number of bytes which will be uploaded at a time.\n",
              "const MAX_PAYLOAD_SIZE = 100 * 1024;\n",
              "\n",
              "function _uploadFiles(inputId, outputId) {\n",
              "  const steps = uploadFilesStep(inputId, outputId);\n",
              "  const outputElement = document.getElementById(outputId);\n",
              "  // Cache steps on the outputElement to make it available for the next call\n",
              "  // to uploadFilesContinue from Python.\n",
              "  outputElement.steps = steps;\n",
              "\n",
              "  return _uploadFilesContinue(outputId);\n",
              "}\n",
              "\n",
              "// This is roughly an async generator (not supported in the browser yet),\n",
              "// where there are multiple asynchronous steps and the Python side is going\n",
              "// to poll for completion of each step.\n",
              "// This uses a Promise to block the python side on completion of each step,\n",
              "// then passes the result of the previous step as the input to the next step.\n",
              "function _uploadFilesContinue(outputId) {\n",
              "  const outputElement = document.getElementById(outputId);\n",
              "  const steps = outputElement.steps;\n",
              "\n",
              "  const next = steps.next(outputElement.lastPromiseValue);\n",
              "  return Promise.resolve(next.value.promise).then((value) => {\n",
              "    // Cache the last promise value to make it available to the next\n",
              "    // step of the generator.\n",
              "    outputElement.lastPromiseValue = value;\n",
              "    return next.value.response;\n",
              "  });\n",
              "}\n",
              "\n",
              "/**\n",
              " * Generator function which is called between each async step of the upload\n",
              " * process.\n",
              " * @param {string} inputId Element ID of the input file picker element.\n",
              " * @param {string} outputId Element ID of the output display.\n",
              " * @return {!Iterable<!Object>} Iterable of next steps.\n",
              " */\n",
              "function* uploadFilesStep(inputId, outputId) {\n",
              "  const inputElement = document.getElementById(inputId);\n",
              "  inputElement.disabled = false;\n",
              "\n",
              "  const outputElement = document.getElementById(outputId);\n",
              "  outputElement.innerHTML = '';\n",
              "\n",
              "  const pickedPromise = new Promise((resolve) => {\n",
              "    inputElement.addEventListener('change', (e) => {\n",
              "      resolve(e.target.files);\n",
              "    });\n",
              "  });\n",
              "\n",
              "  const cancel = document.createElement('button');\n",
              "  inputElement.parentElement.appendChild(cancel);\n",
              "  cancel.textContent = 'Cancel upload';\n",
              "  const cancelPromise = new Promise((resolve) => {\n",
              "    cancel.onclick = () => {\n",
              "      resolve(null);\n",
              "    };\n",
              "  });\n",
              "\n",
              "  // Wait for the user to pick the files.\n",
              "  const files = yield {\n",
              "    promise: Promise.race([pickedPromise, cancelPromise]),\n",
              "    response: {\n",
              "      action: 'starting',\n",
              "    }\n",
              "  };\n",
              "\n",
              "  cancel.remove();\n",
              "\n",
              "  // Disable the input element since further picks are not allowed.\n",
              "  inputElement.disabled = true;\n",
              "\n",
              "  if (!files) {\n",
              "    return {\n",
              "      response: {\n",
              "        action: 'complete',\n",
              "      }\n",
              "    };\n",
              "  }\n",
              "\n",
              "  for (const file of files) {\n",
              "    const li = document.createElement('li');\n",
              "    li.append(span(file.name, {fontWeight: 'bold'}));\n",
              "    li.append(span(\n",
              "        `(${file.type || 'n/a'}) - ${file.size} bytes, ` +\n",
              "        `last modified: ${\n",
              "            file.lastModifiedDate ? file.lastModifiedDate.toLocaleDateString() :\n",
              "                                    'n/a'} - `));\n",
              "    const percent = span('0% done');\n",
              "    li.appendChild(percent);\n",
              "\n",
              "    outputElement.appendChild(li);\n",
              "\n",
              "    const fileDataPromise = new Promise((resolve) => {\n",
              "      const reader = new FileReader();\n",
              "      reader.onload = (e) => {\n",
              "        resolve(e.target.result);\n",
              "      };\n",
              "      reader.readAsArrayBuffer(file);\n",
              "    });\n",
              "    // Wait for the data to be ready.\n",
              "    let fileData = yield {\n",
              "      promise: fileDataPromise,\n",
              "      response: {\n",
              "        action: 'continue',\n",
              "      }\n",
              "    };\n",
              "\n",
              "    // Use a chunked sending to avoid message size limits. See b/62115660.\n",
              "    let position = 0;\n",
              "    do {\n",
              "      const length = Math.min(fileData.byteLength - position, MAX_PAYLOAD_SIZE);\n",
              "      const chunk = new Uint8Array(fileData, position, length);\n",
              "      position += length;\n",
              "\n",
              "      const base64 = btoa(String.fromCharCode.apply(null, chunk));\n",
              "      yield {\n",
              "        response: {\n",
              "          action: 'append',\n",
              "          file: file.name,\n",
              "          data: base64,\n",
              "        },\n",
              "      };\n",
              "\n",
              "      let percentDone = fileData.byteLength === 0 ?\n",
              "          100 :\n",
              "          Math.round((position / fileData.byteLength) * 100);\n",
              "      percent.textContent = `${percentDone}% done`;\n",
              "\n",
              "    } while (position < fileData.byteLength);\n",
              "  }\n",
              "\n",
              "  // All done.\n",
              "  yield {\n",
              "    response: {\n",
              "      action: 'complete',\n",
              "    }\n",
              "  };\n",
              "}\n",
              "\n",
              "scope.google = scope.google || {};\n",
              "scope.google.colab = scope.google.colab || {};\n",
              "scope.google.colab._files = {\n",
              "  _uploadFiles,\n",
              "  _uploadFilesContinue,\n",
              "};\n",
              "})(self);\n",
              "</script> "
            ]
          },
          "metadata": {}
        },
        {
          "output_type": "stream",
          "name": "stdout",
          "text": [
            "Saving kaggle.json to kaggle (6).json\n"
          ]
        },
        {
          "output_type": "execute_result",
          "data": {
            "text/plain": [
              "{'kaggle (6).json': b'{\"username\":\"nadasalem81\",\"key\":\"533c66068bcc937ae5bee94405d25391\"}'}"
            ]
          },
          "metadata": {},
          "execution_count": 2
        }
      ]
    },
    {
      "cell_type": "code",
      "source": [
        "!mkdir -p ~/.kaggle\n",
        "!cp kaggle.json ~/.kaggle/\n",
        "!chmod 600 ~/.kaggle/kaggle.json"
      ],
      "metadata": {
        "id": "f5X0ztnD4VXc"
      },
      "execution_count": null,
      "outputs": []
    },
    {
      "cell_type": "code",
      "source": [
        "!kaggle datasets download -d murtadhanajim/gender-recognition-by-voiceoriginal --unzip"
      ],
      "metadata": {
        "id": "p3a7mWSr4VUd",
        "colab": {
          "base_uri": "https://localhost:8080/"
        },
        "outputId": "ca1389ad-3eb8-4605-ee12-ac99dc80e8bf"
      },
      "execution_count": null,
      "outputs": [
        {
          "output_type": "stream",
          "name": "stdout",
          "text": [
            "Dataset URL: https://www.kaggle.com/datasets/murtadhanajim/gender-recognition-by-voiceoriginal\n",
            "License(s): apache-2.0\n",
            "Downloading gender-recognition-by-voiceoriginal.zip to /content\n",
            " 98% 1.29G/1.31G [00:11<00:00, 252MB/s]\n",
            "100% 1.31G/1.31G [00:11<00:00, 118MB/s]\n"
          ]
        }
      ]
    },
    {
      "cell_type": "code",
      "source": [
        "import os\n",
        "import random\n",
        "import librosa\n",
        "import tensorflow as tf\n",
        "import numpy as np\n",
        "from tensorflow.keras import layers, models, callbacks\n",
        "\n",
        "# --- Folders ---\n",
        "FEMALE_FOLDER = \"/content/data/female\"\n",
        "MALE_FOLDER = \"/content/data/male\"\n",
        "\n",
        "# --- Load file names ---\n",
        "female_files = os.listdir(FEMALE_FOLDER)\n",
        "male_files = os.listdir(MALE_FOLDER)\n",
        "\n",
        "# --- Take only half of the files for each class ---\n",
        "female_files = random.sample(female_files, len(female_files)//2)\n",
        "male_files = random.sample(male_files, len(male_files)//2)\n",
        "\n",
        "# --- Function to load and preprocess audio ---\n",
        "def load_wav_16k_mono(filename, max_len=48000):\n",
        "    wav, sr = librosa.load(filename, sr=16000, mono=True)\n",
        "    if len(wav) > max_len:\n",
        "        wav = wav[:max_len]  # trim\n",
        "    else:\n",
        "        wav = np.pad(wav, (0, max_len - len(wav)))  # pad\n",
        "    return wav\n",
        "\n",
        "# --- Load audio and labels ---\n",
        "X = []\n",
        "y = []\n",
        "\n",
        "for f in female_files:\n",
        "    path = os.path.join(FEMALE_FOLDER, f)\n",
        "    X.append(load_wav_16k_mono(path))\n",
        "    y.append(0)  # female label\n",
        "\n",
        "for f in male_files:\n",
        "    path = os.path.join(MALE_FOLDER, f)\n",
        "    X.append(load_wav_16k_mono(path))\n",
        "    y.append(1)  # male label\n",
        "\n",
        "X = np.array(X)\n",
        "y = np.array(y, dtype='int32')\n",
        "\n",
        "# --- Convert audio to spectrograms and resize to 128x128 ---\n",
        "X_spec = []\n",
        "for x in X:\n",
        "    spec = np.abs(librosa.stft(x, n_fft=512, hop_length=256))\n",
        "    spec = tf.expand_dims(spec, -1)  # add channel dimension\n",
        "    spec = tf.image.resize(spec, [128, 128])  # resize to 128x128\n",
        "    X_spec.append(spec)\n",
        "\n",
        "X_spec = tf.stack(X_spec)\n",
        "\n",
        "# --- Create TensorFlow Dataset ---\n",
        "dataset = tf.data.Dataset.from_tensor_slices((X_spec, y))\n",
        "\n",
        "# Shuffle the whole dataset\n",
        "dataset = dataset.shuffle(buffer_size=len(X_spec), seed=42)\n",
        "\n",
        "# Split dataset into train and test\n",
        "dataset_size = len(X_spec)\n",
        "train_size = int(0.7 * dataset_size)\n",
        "\n",
        "train_ds = dataset.take(train_size)\n",
        "test_ds = dataset.skip(train_size)\n",
        "\n",
        "# Batch and prefetch **after** splitting\n",
        "BATCH_SIZE = 2\n",
        "train_ds = train_ds.batch(BATCH_SIZE).prefetch(tf.data.AUTOTUNE)\n",
        "test_ds = test_ds.batch(BATCH_SIZE).prefetch(tf.data.AUTOTUNE)\n",
        "\n",
        "# --- Define CNN model ---\n",
        "input_shape = (128, 128, 1)\n",
        "model = models.Sequential([\n",
        "    layers.Input(shape=input_shape),  # Input layer\n",
        "    layers.Conv2D(16, (3,3), activation='relu'),\n",
        "    layers.MaxPooling2D((2,2)),\n",
        "    layers.Conv2D(32, (3,3), activation='relu'),\n",
        "    layers.MaxPooling2D((2,2)),\n",
        "    layers.Flatten(),\n",
        "    layers.Dense(64, activation='relu'),\n",
        "    layers.Dense(1, activation='sigmoid')\n",
        "])\n",
        "\n",
        "# --- Compile model ---\n",
        "model.compile(\n",
        "    optimizer='adam',\n",
        "    loss='binary_crossentropy',\n",
        "    metrics=['Precision', 'Recall']\n",
        ")\n",
        "\n",
        "# --- Define callbacks ---\n",
        "early_stop = callbacks.EarlyStopping(\n",
        "    monitor='val_loss',\n",
        "    patience=5,\n",
        "    restore_best_weights=True\n",
        ")\n",
        "\n",
        "reduce_lr = callbacks.ReduceLROnPlateau(\n",
        "    monitor='val_loss',\n",
        "    factor=0.2,\n",
        "    patience=3,\n",
        "    min_lr=1e-6\n",
        ")\n"
      ],
      "metadata": {
        "id": "stjezaiNBkyO"
      },
      "execution_count": null,
      "outputs": []
    },
    {
      "cell_type": "code",
      "source": [
        "# --- Train the model ---\n",
        "history = model.fit(\n",
        "    train_ds,\n",
        "    validation_data=test_ds,\n",
        "    epochs=6,\n",
        "    callbacks=[early_stop, reduce_lr]\n",
        ")\n"
      ],
      "metadata": {
        "id": "xNev5A07Qqwm",
        "colab": {
          "base_uri": "https://localhost:8080/"
        },
        "outputId": "8f1cf81a-080d-4ea7-f473-5fc944906621"
      },
      "execution_count": 10,
      "outputs": [
        {
          "output_type": "stream",
          "name": "stdout",
          "text": [
            "Epoch 1/6\n",
            "\u001b[1m2826/2826\u001b[0m \u001b[32m━━━━━━━━━━━━━━━━━━━━\u001b[0m\u001b[37m\u001b[0m \u001b[1m154s\u001b[0m 54ms/step - Precision: 0.9987 - Recall: 0.9993 - loss: 0.0054 - val_Precision: 1.0000 - val_Recall: 1.0000 - val_loss: 1.8961e-04 - learning_rate: 0.0010\n",
            "Epoch 2/6\n",
            "\u001b[1m2826/2826\u001b[0m \u001b[32m━━━━━━━━━━━━━━━━━━━━\u001b[0m\u001b[37m\u001b[0m \u001b[1m145s\u001b[0m 51ms/step - Precision: 0.9999 - Recall: 0.9999 - loss: 0.0016 - val_Precision: 1.0000 - val_Recall: 1.0000 - val_loss: 2.0152e-05 - learning_rate: 0.0010\n",
            "Epoch 3/6\n",
            "\u001b[1m2826/2826\u001b[0m \u001b[32m━━━━━━━━━━━━━━━━━━━━\u001b[0m\u001b[37m\u001b[0m \u001b[1m135s\u001b[0m 48ms/step - Precision: 0.9996 - Recall: 0.9994 - loss: 0.0046 - val_Precision: 1.0000 - val_Recall: 1.0000 - val_loss: 5.3467e-07 - learning_rate: 0.0010\n",
            "Epoch 4/6\n",
            "\u001b[1m2826/2826\u001b[0m \u001b[32m━━━━━━━━━━━━━━━━━━━━\u001b[0m\u001b[37m\u001b[0m \u001b[1m134s\u001b[0m 47ms/step - Precision: 0.9999 - Recall: 0.9999 - loss: 1.9481e-04 - val_Precision: 1.0000 - val_Recall: 1.0000 - val_loss: 1.4175e-05 - learning_rate: 0.0010\n",
            "Epoch 5/6\n",
            "\u001b[1m2826/2826\u001b[0m \u001b[32m━━━━━━━━━━━━━━━━━━━━\u001b[0m\u001b[37m\u001b[0m \u001b[1m135s\u001b[0m 48ms/step - Precision: 0.9999 - Recall: 0.9999 - loss: 4.1309e-04 - val_Precision: 0.9505 - val_Recall: 1.0000 - val_loss: 0.2204 - learning_rate: 0.0010\n",
            "Epoch 6/6\n",
            "\u001b[1m2826/2826\u001b[0m \u001b[32m━━━━━━━━━━━━━━━━━━━━\u001b[0m\u001b[37m\u001b[0m \u001b[1m136s\u001b[0m 48ms/step - Precision: 0.9979 - Recall: 1.0000 - loss: 0.0069 - val_Precision: 1.0000 - val_Recall: 1.0000 - val_loss: 4.4067e-07 - learning_rate: 2.0000e-04\n"
          ]
        }
      ]
    },
    {
      "cell_type": "code",
      "source": [
        "import librosa\n",
        "import tensorflow as tf\n",
        "import numpy as np\n",
        "\n",
        "# --- Function to load and preprocess a single audio file ---\n",
        "def preprocess_audio(filename, max_len=48000):\n",
        "    wav, sr = librosa.load(filename, sr=16000, mono=True)\n",
        "    if len(wav) > max_len:\n",
        "        wav = wav[:max_len]\n",
        "    else:\n",
        "        wav = np.pad(wav, (0, max_len - len(wav)))\n",
        "\n",
        "    # Convert to spectrogram\n",
        "    spec = np.abs(librosa.stft(wav, n_fft=512, hop_length=256))\n",
        "    spec = tf.expand_dims(spec, -1)         # Add channel dimension\n",
        "    spec = tf.image.resize(spec, [128, 128])  # Resize to 128x128\n",
        "    spec = tf.expand_dims(spec, 0)          # Add batch dimension\n",
        "    return spec\n",
        "\n",
        "# --- Example usage ---\n",
        "female_file = \"/content/female2.wav\"\n",
        "male_file   = \"/content/male.wav\"\n",
        "\n",
        "# Preprocess audio\n",
        "female_spec = preprocess_audio(female_file)\n",
        "male_spec   = preprocess_audio(male_file)\n",
        "\n",
        "# --- Predict ---\n",
        "female_pred = model.predict(female_spec)\n",
        "male_pred   = model.predict(male_spec)\n",
        "\n",
        "# --- Print results ---\n",
        "print(\"Female audio prediction:\", \"Male\" if female_pred[0][0] > 0.5 else \"Female\")\n",
        "print(\"Male audio prediction:\", \"Male\" if male_pred[0][0] > 0.5 else \"Female\")\n"
      ],
      "metadata": {
        "colab": {
          "base_uri": "https://localhost:8080/"
        },
        "id": "CxG38EwDmkG5",
        "outputId": "b2755d65-3fcd-4ddc-87e2-dc555db6e967"
      },
      "execution_count": 17,
      "outputs": [
        {
          "output_type": "stream",
          "name": "stdout",
          "text": [
            "\u001b[1m1/1\u001b[0m \u001b[32m━━━━━━━━━━━━━━━━━━━━\u001b[0m\u001b[37m\u001b[0m \u001b[1m0s\u001b[0m 79ms/step\n",
            "\u001b[1m1/1\u001b[0m \u001b[32m━━━━━━━━━━━━━━━━━━━━\u001b[0m\u001b[37m\u001b[0m \u001b[1m0s\u001b[0m 81ms/step\n",
            "Female audio prediction: Female\n",
            "Male audio prediction: Male\n"
          ]
        }
      ]
    }
  ]
}